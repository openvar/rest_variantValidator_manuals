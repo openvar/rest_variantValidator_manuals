{
 "cells": [
  {
   "cell_type": "markdown",
   "metadata": {},
   "source": [
    "# VariantValidator rest API tutorial"
   ]
  },
  {
   "cell_type": "markdown",
   "metadata": {},
   "source": [
    "## This document contains the following\n",
    "- Example 1: Inappropriate use of a gene symbol instead of a sequence identifier"
   ]
  },
  {
   "cell_type": "markdown",
   "metadata": {},
   "source": [
    "## Example 1: Inappropriate use of a gene symbol instead of a sequence identifier "
   ]
  },
  {
   "cell_type": "markdown",
   "metadata": {},
   "source": [
    "## Use the VariantValidator rest API to correct variant description COL5A1:c.5072_5077delinsT\n",
    "\n",
    "We will also use this example to find our way around the VariantValidator output\n",
    "\n",
    "**Scenario**\n",
    "You maintain a database of variants that have been identified as pathogenic and causal of Ehlers Danlos syndrome. You are attending a conference, and during a presentation a speaker displays a variant thought to be causal of Classical Ehlers Danlos syndrome. The variant is displayed in the presentation as COL5A1:c.5072_5077delinsT. You ask the presenter to provide additional information, but find that the information provided is all that the presenter knows about this particular variant. You want to find out more about the variant and add it to your database. In its current format, the variant description is invalid for entry into the database. \n",
    "\n",
    "### Navigating the VariantValidator response\n",
    "\n",
    "**Step 1: Importing modules**\n",
    "\n",
    "Before we can make a request to the VariantValidator rest API, we need to *import the module requests*. Also, to ensure that we can beautify the output, *import the module json*\n",
    "\n",
    "You may wish to refer to\n",
    "[w3schools python modules](https://www.w3schools.com/python/python_modules.asp)"
   ]
  },
  {
   "cell_type": "code",
   "execution_count": 8,
   "metadata": {},
   "outputs": [],
   "source": [
    "import requests\n",
    "import json"
   ]
  },
  {
   "cell_type": "markdown",
   "metadata": {},
   "source": [
    "**Step 2: Create text string objects defining parameters required by the rest API**\n",
    "\n",
    "***Next we make a call to the VariantValidator rest API***\n",
    "\n",
    "Before attempting this section, take a look at the [VariantValidator rest API](https://rest.variantvalidator.org/webservices/variantvalidator.html#!/variantvalidator) Swagger documented functions\n",
    " and also the documentation for the [requests](https://pypi.org/project/requests/) Python module\n",
    "\n",
    "You may wish to refer to [w3schools python strings](https://www.w3schools.com/python/python_strings.asp)\n",
    "\n",
    "To make a call to the variantvalidator function of the API, you will need 5 text string objects:\n",
    "1. base_url\n",
    "2. function\n",
    "3. genome_build\n",
    "4. variant\n",
    "5. select_transcripts\n",
    "\n",
    "Create these objects now"
   ]
  },
  {
   "cell_type": "code",
   "execution_count": 1,
   "metadata": {},
   "outputs": [],
   "source": [
    "base_url = \"https://rest.variantvalidator.org\""
   ]
  },
  {
   "cell_type": "code",
   "execution_count": 2,
   "metadata": {},
   "outputs": [],
   "source": [
    "function = \"variantvalidator\""
   ]
  },
  {
   "cell_type": "code",
   "execution_count": 3,
   "metadata": {},
   "outputs": [],
   "source": [
    "genome_build = \"GRCh38\""
   ]
  },
  {
   "cell_type": "code",
   "execution_count": 4,
   "metadata": {},
   "outputs": [],
   "source": [
    "variant = \"COL5A1:c.5072_5077delinsT\""
   ]
  },
  {
   "cell_type": "code",
   "execution_count": 5,
   "metadata": {},
   "outputs": [],
   "source": [
    "select_transcripts = \"all\""
   ]
  },
  {
   "cell_type": "markdown",
   "metadata": {},
   "source": [
    "**Step 3: Pass the string objects to a function that calls the VariantValidator rest API**\n",
    "    \n",
    "Below is a pre-defined function which you will use to make calls to VariantValidator\n",
    "\n",
    "More information about functions can be found at [w3schools python function](https://www.w3schools.com/python/python_functions.asp). The function contains string formatting. Further information can be found here [Python string formatting](https://www.learnpython.org/en/String_Formatting) "
   ]
  },
  {
   "cell_type": "code",
   "execution_count": 60,
   "metadata": {},
   "outputs": [],
   "source": [
    "# Function that makes calls to the VariantValidator rest API\n",
    "\n",
    "# The function has two objects that MUST be defined, and three that are optional \n",
    "# (Different VariantValidator rest API functions require different data so this format will allow the function to be expanded)\n",
    "def query_vv(base_url, function, genome_build=None, variant=None, select_transcripts=None):\n",
    "    \n",
    "    # Call the variantvalidator function\n",
    "    if function == 'variantvalidator':\n",
    "        url = \"%s/%s/%s/%s/%s\" % (base_url, function, genome_build, variant, select_transcripts)\n",
    "        # Tell the User the full URL of their call to the rest API\n",
    "        print(\"Querying VariantValidator rest API with URL\")\n",
    "        print(url)\n",
    "        query = requests.get(url)\n",
    "        return query\n",
    "    "
   ]
  },
  {
   "cell_type": "markdown",
   "metadata": {},
   "source": [
    "***Make a call to the VariantValidator rest API using the provided function***\n",
    "\n",
    "*Remember to assign the returned output to an object with a unique name*"
   ]
  },
  {
   "cell_type": "code",
   "execution_count": 17,
   "metadata": {},
   "outputs": [
    {
     "name": "stdout",
     "output_type": "stream",
     "text": [
      "Querying VariantValidator rest API with URL\n",
      "https://rest.variantvalidator.org/variantvalidator/GRCh38/COL5A1:c.5072_5077delinsT/all\n"
     ]
    }
   ],
   "source": [
    "response_1 = query_vv(base_url, function, genome_build, variant, select_transcripts)"
   ]
  },
  {
   "cell_type": "markdown",
   "metadata": {},
   "source": [
    "**Step 4: Take a look at the response by printing it**\n",
    "\n",
    "The print syntax can be found in \n",
    "[w3schools python get started](https://www.w3schools.com/python/python_getstarted.asp)"
   ]
  },
  {
   "cell_type": "code",
   "execution_count": 18,
   "metadata": {},
   "outputs": [
    {
     "name": "stdout",
     "output_type": "stream",
     "text": [
      "<Response [200]>\n"
     ]
    }
   ],
   "source": [
    "print(response_1)"
   ]
  },
  {
   "cell_type": "markdown",
   "metadata": {},
   "source": [
    "At this stage, you will have printed response code indicating whether the API call worked or, *i.e.* response code 200 = success*\n",
    "\n",
    "Other codes you may see are:\n",
    "- 404 = Not found (*i.e.* you have requested a function that deos not exist)\n",
    "- 500 = Error (*i.e.* Something has gone wrong, please [contact admin](https://variantvalidator.org/contact_admin/))\n",
    "\n",
    "Additional information about the types of response code that APIs may provide can be found here [API response codes](https://restfulapi.net/http-status-codes/)"
   ]
  },
  {
   "cell_type": "markdown",
   "metadata": {},
   "source": [
    "**Step 5: The response from the VariantValidator API is an object. We need to extract our data**\n",
    "\n",
    "Refer to the [requests](https://pypi.org/project/requests/) Python module documentation\n",
    "\n",
    "At this point, it is a good idea to query the components of the response\n",
    "\n",
    "***First display the response headers***"
   ]
  },
  {
   "cell_type": "code",
   "execution_count": 21,
   "metadata": {},
   "outputs": [
    {
     "name": "stdout",
     "output_type": "stream",
     "text": [
      "\"{'Date': 'Tue, 14 May 2019 06:05:45 GMT', 'Server': 'Apache', 'Content-Length': '936', 'Access-Control-Allow-Origin': '*', 'Keep-Alive': 'timeout=15, max=100', 'Connection': 'Keep-Alive', 'Content-Type': 'application/json'}\"\n"
     ]
    }
   ],
   "source": [
    "response_1.headers"
   ]
  },
  {
   "cell_type": "markdown",
   "metadata": {},
   "source": [
    "***The content-type provides useful information. Display the content-type***\n",
    "\n",
    "*Note: the response headers are key: value combinations, so Python accesses the data as if they were in the dictionary format*\n",
    "\n",
    "*For more information about how to navigate python dictionaries, see\n",
    "[w3schools python dictionary](https://www.w3schools.com/python/python_dictionaries.asp)*"
   ]
  },
  {
   "cell_type": "code",
   "execution_count": 6,
   "metadata": {},
   "outputs": [
    {
     "data": {
      "text/plain": [
       "'application/json'"
      ]
     },
     "execution_count": 6,
     "metadata": {},
     "output_type": "execute_result"
    }
   ],
   "source": [
    "response_1.headers['content-type']"
   ]
  },
  {
   "cell_type": "markdown",
   "metadata": {},
   "source": [
    "This tells us that the response from the VariantValidator is a json. JavaScript Object Notation (JSON) is a open-standard file format that uses human-readable text to transmit data, and is commonly used by web applications. It is both human readable and can be easily parsed by programming languages\n",
    "\n",
    "***Finally, the variantvalidator function validation data are returned under the content header***\n",
    "\n",
    "Display the response content"
   ]
  },
  {
   "cell_type": "code",
   "execution_count": 22,
   "metadata": {},
   "outputs": [
    {
     "data": {
      "text/plain": [
       "b'{\"validation_warning_1\": {\"hgvs_lrg_transcript_variant\": \"\", \"validation_warnings\": [\"HGVS variant nomenclature does not allow the use of a gene symbol (COL5A1) in place of a valid reference sequence\", \"Re-submit COL5A1:c.5072_5077delinsT and specify transcripts from the following\", \"select_transcripts=NM_000093.4|NM_000093.3|NM_001278074.1\"], \"refseqgene_context_intronic_sequence\": \"\", \"alt_genomic_loci\": [], \"transcript_description\": \"\", \"gene_symbol\": \"\", \"hgvs_predicted_protein_consequence\": {\"tlr\": \"\", \"slr\": \"\"}, \"submitted_variant\": \"COL5A1:c.5072_5077delinsT\", \"genome_context_intronic_sequence\": \"\", \"hgvs_lrg_variant\": \"\", \"hgvs_transcript_variant\": \"\", \"hgvs_refseqgene_variant\": \"\", \"primary_assembly_loci\": {}, \"reference_sequence_records\": \"\"}, \"flag\": \"warning\", \"metadata\": {\"variantvalidator_hgvs_version\": \"1.1.3\", \"uta_schema\": \"uta_20180821\", \"seqrepo_db\": \"2018-08-21\", \"variantvalidator_version\": \"v0.2.4\"}}\\n'"
      ]
     },
     "execution_count": 22,
     "metadata": {},
     "output_type": "execute_result"
    }
   ],
   "source": [
    "response_1.content"
   ]
  },
  {
   "cell_type": "markdown",
   "metadata": {},
   "source": [
    "**Step 6: Extract the response json from the validation object into a new python dictionary object**\n",
    "\n",
    "In its raw format the data is rather difficult to read. We can use Python to encode the json text into a Python dictionary object which is easier to manipulate. \n",
    "\n",
    "Assign the response content to a python object\n",
    "\n",
    "*Refer to the [requests](https://pypi.org/project/requests/) Python module documentation*"
   ]
  },
  {
   "cell_type": "code",
   "execution_count": 25,
   "metadata": {},
   "outputs": [],
   "source": [
    "vv_data_1 = response_1.json()"
   ]
  },
  {
   "cell_type": "markdown",
   "metadata": {},
   "source": [
    "**Step 6: Print the validated variant using a json.dumps print statement**\n",
    "\n",
    "Your new object containing the validation data is a [Python dictionary](https://www.w3schools.com/python/python_dictionaries.asp). \n",
    "    \n",
    "To display complex data, *e.g.* Python dictionaries in a clear human-readable format use a **json.dumps** print statement, *e.g.*\n",
    "\n",
    "print(json.dumps(what_i_want_to_print, sort_keys=True, indent=4, separators=(',', ': ')))"
   ]
  },
  {
   "cell_type": "code",
   "execution_count": 27,
   "metadata": {},
   "outputs": [
    {
     "name": "stdout",
     "output_type": "stream",
     "text": [
      "{\n",
      "    \"flag\": \"warning\",\n",
      "    \"metadata\": {\n",
      "        \"seqrepo_db\": \"2018-08-21\",\n",
      "        \"uta_schema\": \"uta_20180821\",\n",
      "        \"variantvalidator_hgvs_version\": \"1.1.3\",\n",
      "        \"variantvalidator_version\": \"v0.2.4\"\n",
      "    },\n",
      "    \"validation_warning_1\": {\n",
      "        \"alt_genomic_loci\": [],\n",
      "        \"gene_symbol\": \"\",\n",
      "        \"genome_context_intronic_sequence\": \"\",\n",
      "        \"hgvs_lrg_transcript_variant\": \"\",\n",
      "        \"hgvs_lrg_variant\": \"\",\n",
      "        \"hgvs_predicted_protein_consequence\": {\n",
      "            \"slr\": \"\",\n",
      "            \"tlr\": \"\"\n",
      "        },\n",
      "        \"hgvs_refseqgene_variant\": \"\",\n",
      "        \"hgvs_transcript_variant\": \"\",\n",
      "        \"primary_assembly_loci\": {},\n",
      "        \"reference_sequence_records\": \"\",\n",
      "        \"refseqgene_context_intronic_sequence\": \"\",\n",
      "        \"submitted_variant\": \"COL5A1:c.5072_5077delinsT\",\n",
      "        \"transcript_description\": \"\",\n",
      "        \"validation_warnings\": [\n",
      "            \"HGVS variant nomenclature does not allow the use of a gene symbol (COL5A1) in place of a valid reference sequence\",\n",
      "            \"Re-submit COL5A1:c.5072_5077delinsT and specify transcripts from the following\",\n",
      "            \"select_transcripts=NM_000093.4|NM_000093.3|NM_001278074.1\"\n",
      "        ]\n",
      "    }\n",
      "}\n"
     ]
    }
   ],
   "source": [
    "print(json.dumps(vv_data_1, sort_keys=True, indent=4, separators=(',', ': ')))"
   ]
  },
  {
   "cell_type": "markdown",
   "metadata": {},
   "source": [
    "**Step 7: Explore the validation dictionary keys**\n",
    "\n",
    "The data returned by VariantValidator are quite extensive \n",
    "\n",
    "To understand the structure of the validation dictionary, such that relevant data can be extracted, use the keys method to display the validation dictionary keys"
   ]
  },
  {
   "cell_type": "code",
   "execution_count": 28,
   "metadata": {},
   "outputs": [
    {
     "data": {
      "text/plain": [
       "dict_keys(['validation_warning_1', 'flag', 'metadata'])"
      ]
     },
     "execution_count": 28,
     "metadata": {},
     "output_type": "execute_result"
    }
   ],
   "source": [
    "vv_data_1.keys()"
   ]
  },
  {
   "cell_type": "markdown",
   "metadata": {},
   "source": [
    "**The validation dictonary has 3 keys**\n",
    "\n",
    "Print the content of the VariantValidator metadata *key*. \n",
    "\n",
    "***Note: the metadata are stored in a nested dictionary identified by the key \"metadata\", so use a json.dumps print statement*** "
   ]
  },
  {
   "cell_type": "code",
   "execution_count": 29,
   "metadata": {},
   "outputs": [
    {
     "name": "stdout",
     "output_type": "stream",
     "text": [
      "{\n",
      "    \"seqrepo_db\": \"2018-08-21\",\n",
      "    \"uta_schema\": \"uta_20180821\",\n",
      "    \"variantvalidator_hgvs_version\": \"1.1.3\",\n",
      "    \"variantvalidator_version\": \"v0.2.4\"\n",
      "}\n"
     ]
    }
   ],
   "source": [
    "print(json.dumps(vv_data_1['metadata'], sort_keys=True, indent=4, separators=(',', ': ')))"
   ]
  },
  {
   "cell_type": "markdown",
   "metadata": {},
   "source": [
    "**Record: a) the current version of the VariantValidator API; b) the current Universal Transcript Archive schema; c) the current SeqRepo database by printing them**\n",
    "\n",
    "*Note, these objects are text strings not a dictionaries,* ***so use simple print statements***\n",
    "\n",
    "More information about the structure of VariantValidator can be found here (note: the paper is open source so can be accessed off campus)\n",
    "[VariantValidator paper](https://onlinelibrary.wiley.com/doi/full/10.1002/humu.23348)\n",
    "\n",
    "a) Current version of the VariantValidator API"
   ]
  },
  {
   "cell_type": "markdown",
   "metadata": {},
   "source": [
    "*Note: since the metadata are contained in a nested dictionary, to print a specific value you must first tell Python that you are accessing the \"metadata\" dictionary (see the print statement above) then identify the specific key within the \"metadata\" dictionary that you want to print*"
   ]
  },
  {
   "cell_type": "code",
   "execution_count": 23,
   "metadata": {
    "scrolled": true
   },
   "outputs": [
    {
     "name": "stdout",
     "output_type": "stream",
     "text": [
      "v0.2.4\n"
     ]
    }
   ],
   "source": [
    "print(vv_data_1['metadata']['variantvalidator_version'])"
   ]
  },
  {
   "cell_type": "markdown",
   "metadata": {},
   "source": [
    "b) Current Universal Transcript Archive (UTA) schema"
   ]
  },
  {
   "cell_type": "code",
   "execution_count": 24,
   "metadata": {},
   "outputs": [
    {
     "name": "stdout",
     "output_type": "stream",
     "text": [
      "uta_20180821\n"
     ]
    }
   ],
   "source": [
    "print(vv_data_1['metadata']['uta_schema'])"
   ]
  },
  {
   "cell_type": "markdown",
   "metadata": {},
   "source": [
    "b) Current SeqRepo database"
   ]
  },
  {
   "cell_type": "code",
   "execution_count": 25,
   "metadata": {},
   "outputs": [
    {
     "name": "stdout",
     "output_type": "stream",
     "text": [
      "2018-08-21\n"
     ]
    }
   ],
   "source": [
    "print(vv_data_1['metadata']['seqrepo_db'])"
   ]
  },
  {
   "cell_type": "code",
   "execution_count": null,
   "metadata": {},
   "outputs": [],
   "source": []
  },
  {
   "cell_type": "markdown",
   "metadata": {},
   "source": [
    "**The VariantValidator flag**\n",
    "\n",
    "The flag gives us a quick indication of the type of response that VariantValidator has returned\n",
    "\n",
    "- warning: VariantValidator has spotted an error in your submission that it cannot auto-correct\n",
    "\n",
    "- intergenic: The submitted variant does not map to any available transcript reference sequences\n",
    "\n",
    "- gene_variant: The submitted variant maps to at least one transcript reference sequence\n",
    "\n",
    "- error: Something has gone wrong, please [contact admin](https://variantvalidator.org/contact_admin/) \n",
    "\n",
    "Print the flag for the current VariantValidator response\n",
    "\n",
    "*Note, the flag is a text string, so use a simple print statement*"
   ]
  },
  {
   "cell_type": "code",
   "execution_count": 26,
   "metadata": {},
   "outputs": [
    {
     "name": "stdout",
     "output_type": "stream",
     "text": [
      "warning\n"
     ]
    }
   ],
   "source": [
    "print(vv_data_1['flag'])"
   ]
  },
  {
   "cell_type": "markdown",
   "metadata": {},
   "source": [
    "**Step 8: Explore a VariantValidator validation body dictionary**\n",
    "\n",
    "The flag has indicated that the validation has created a warning response. There is a single warning which is contained in a dictionary identified by the key \"validation_warning_1\"\n",
    "\n",
    "*Note, responses flagged as 'gene_variant' may contain a mixture of validations and warnings. Responses flagged as 'warning' will only ever contain warnings. If more than one warning is returned, there will be incrementing warning keys, i.e. \"validation_warning_1, validation_warning_2 etc.\"*\n",
    "\n",
    "To determine why VariantValidator has warned us that variant COL5A1:c.5072_5077delinsT is invalid and cannot be auto-corrected, we need to take a look at the 'validation_warning_1' dictionary. \n",
    "\n",
    "The list of keys is quite extensive, so we will use a for look to print the list of keys, extracted using the dictionary keys method\n",
    "\n",
    "*Note: the syntax for a simple for look is:*\n",
    "\n",
    "for a_value in a_list:\n",
    "    \n",
    "    print(a_value)"
   ]
  },
  {
   "cell_type": "code",
   "execution_count": 39,
   "metadata": {},
   "outputs": [
    {
     "name": "stdout",
     "output_type": "stream",
     "text": [
      "hgvs_lrg_transcript_variant\n",
      "validation_warnings\n",
      "refseqgene_context_intronic_sequence\n",
      "alt_genomic_loci\n",
      "transcript_description\n",
      "gene_symbol\n",
      "hgvs_predicted_protein_consequence\n",
      "submitted_variant\n",
      "genome_context_intronic_sequence\n",
      "hgvs_lrg_variant\n",
      "hgvs_transcript_variant\n",
      "hgvs_refseqgene_variant\n",
      "primary_assembly_loci\n",
      "reference_sequence_records\n"
     ]
    }
   ],
   "source": [
    "for key in vv_data_1['validation_warning_1'].keys():\n",
    "    print(key)"
   ]
  },
  {
   "cell_type": "markdown",
   "metadata": {},
   "source": [
    "**The flag tells us that only the validation_warnings are of interest, so print them**\n",
    "\n",
    "*Again, the for loop is useful since the validation warnings are contained in a list*"
   ]
  },
  {
   "cell_type": "code",
   "execution_count": 41,
   "metadata": {},
   "outputs": [
    {
     "name": "stdout",
     "output_type": "stream",
     "text": [
      "HGVS variant nomenclature does not allow the use of a gene symbol (COL5A1) in place of a valid reference sequence\n",
      "Re-submit COL5A1:c.5072_5077delinsT and specify transcripts from the following\n",
      "select_transcripts=NM_000093.4|NM_000093.3|NM_001278074.1\n"
     ]
    }
   ],
   "source": [
    "for warning in vv_data_1['validation_warning_1']['validation_warnings']:\n",
    "    print(warning)"
   ]
  },
  {
   "cell_type": "markdown",
   "metadata": {},
   "source": [
    "**Step 9: Re-submit COL5A1:c.5072_5077delinsT to VariantValidator specifying transcript identifiers**\n",
    "\n",
    "VariantValidator has warned us that \"HGVS variant nomenclature does not allow the use of a gene symbol (COL5A1) in place of a valid reference sequence\". It has also identified three transcript reference sequences to which the variant description could refer (*i.e.* there are currently three RefSeq transcripts for the COL5A1 gene available in UTA)\n",
    "\n",
    "In this step, you will re-submit COL5A1:c.5072_5077delinsT to VariantValidator ***also specifying the two most up-to-date transcript reference sequences***. Then extract the validation data into an object (see your working above). Finally print the response keys\n",
    "\n",
    "You may want to refer to the\n",
    "[VariantValidator rest API](https://rest.variantvalidator.org/webservices/variantvalidator.html#!/variantvalidator) Swagger documented functions"
   ]
  },
  {
   "cell_type": "markdown",
   "metadata": {},
   "source": [
    "***First create a new select_transcripts text string where each transcript ID is separated by the pipe \"|\" character***"
   ]
  },
  {
   "cell_type": "code",
   "execution_count": 42,
   "metadata": {},
   "outputs": [],
   "source": [
    "select_transcripts = 'NM_000093.4|NM_001278074.1'"
   ]
  },
  {
   "cell_type": "markdown",
   "metadata": {},
   "source": [
    "***Now use the query_vv function to query the rest API***\n",
    "\n",
    "*Note: at each stage remember to create a new objects as you may wish to refer back to the previous objects if you have made a mistake!*"
   ]
  },
  {
   "cell_type": "code",
   "execution_count": 45,
   "metadata": {},
   "outputs": [
    {
     "name": "stdout",
     "output_type": "stream",
     "text": [
      "Querying VariantValidator rest API with URL\n",
      "https://rest.variantvalidator.org/variantvalidator/GRCh38/COL5A1:c.5072_5077delinsT/NM_000093.4|NM_001278074.1\n"
     ]
    }
   ],
   "source": [
    "response_2 = query_vv(base_url, function, genome_build, variant, select_transcripts)"
   ]
  },
  {
   "cell_type": "markdown",
   "metadata": {},
   "source": [
    "***Now extract the validation dictionary into a new object and print the dictionary keys***\n",
    "\n",
    "*Note: the list of keys is short so use of a for loop is optional*"
   ]
  },
  {
   "cell_type": "code",
   "execution_count": 46,
   "metadata": {},
   "outputs": [
    {
     "name": "stdout",
     "output_type": "stream",
     "text": [
      "dict_keys(['NM_001278074.1:c.5072_5077delinsT', 'flag', 'NM_000093.4:c.5072_5077delinsT', 'metadata'])\n"
     ]
    }
   ],
   "source": [
    "vv_data_2 = response_2.json()\n",
    "print(vv_data_2.keys())"
   ]
  },
  {
   "cell_type": "markdown",
   "metadata": {},
   "source": [
    "**Step 10: Explore the returned validations**\n",
    "\n",
    "You will have noticed that VariantValidator has now returned four keys, metadata, flag and two variant descriptions in the context of the two RefSeq transcript reference sequence that were assigned to select_transcripts.\n",
    "\n",
    "To get an overview of the validations, print them using the json.dumps print statement"
   ]
  },
  {
   "cell_type": "code",
   "execution_count": 29,
   "metadata": {},
   "outputs": [
    {
     "name": "stdout",
     "output_type": "stream",
     "text": [
      "{\n",
      "    \"alt_genomic_loci\": [],\n",
      "    \"gene_symbol\": \"COL5A1\",\n",
      "    \"genome_context_intronic_sequence\": \"\",\n",
      "    \"hgvs_lrg_transcript_variant\": \"LRG_737t2:c.5072_5077delinsT\",\n",
      "    \"hgvs_lrg_variant\": \"LRG_737:g.193307_193312delinsT\",\n",
      "    \"hgvs_predicted_protein_consequence\": {\n",
      "        \"slr\": \"NP_001265003.1:p.(K1691Ifs*13)\",\n",
      "        \"tlr\": \"NP_001265003.1:p.(Lys1691IlefsTer13)\"\n",
      "    },\n",
      "    \"hgvs_refseqgene_variant\": \"NG_008030.1:g.193307_193312delinsT\",\n",
      "    \"hgvs_transcript_variant\": \"NM_001278074.1:c.5072_5077delinsT\",\n",
      "    \"primary_assembly_loci\": {\n",
      "        \"grch37\": {\n",
      "            \"hgvs_genomic_description\": \"NC_000009.11:g.137721958_137721963delinsT\",\n",
      "            \"vcf\": {\n",
      "                \"alt\": \"T\",\n",
      "                \"chr\": \"9\",\n",
      "                \"pos\": \"137721958\",\n",
      "                \"ref\": \"AAATGG\"\n",
      "            }\n",
      "        },\n",
      "        \"grch38\": {\n",
      "            \"hgvs_genomic_description\": \"NC_000009.12:g.134830112_134830117delinsT\",\n",
      "            \"vcf\": {\n",
      "                \"alt\": \"T\",\n",
      "                \"chr\": \"9\",\n",
      "                \"pos\": \"134830112\",\n",
      "                \"ref\": \"AAATGG\"\n",
      "            }\n",
      "        },\n",
      "        \"hg19\": {\n",
      "            \"hgvs_genomic_description\": \"NC_000009.11:g.137721958_137721963delinsT\",\n",
      "            \"vcf\": {\n",
      "                \"alt\": \"T\",\n",
      "                \"chr\": \"chr9\",\n",
      "                \"pos\": \"137721958\",\n",
      "                \"ref\": \"AAATGG\"\n",
      "            }\n",
      "        },\n",
      "        \"hg38\": {\n",
      "            \"hgvs_genomic_description\": \"NC_000009.12:g.134830112_134830117delinsT\",\n",
      "            \"vcf\": {\n",
      "                \"alt\": \"T\",\n",
      "                \"chr\": \"chr9\",\n",
      "                \"pos\": \"134830112\",\n",
      "                \"ref\": \"AAATGG\"\n",
      "            }\n",
      "        }\n",
      "    },\n",
      "    \"reference_sequence_records\": {\n",
      "        \"lrg\": \"http://ftp.ebi.ac.uk/pub/databases/lrgex/LRG_737.xml\",\n",
      "        \"protein\": \"https://www.ncbi.nlm.nih.gov/nuccore/NP_001265003.1\",\n",
      "        \"refseqgene\": \"https://www.ncbi.nlm.nih.gov/nuccore/NG_008030.1\",\n",
      "        \"transcript\": \"https://www.ncbi.nlm.nih.gov/nuccore/NM_001278074.1\"\n",
      "    },\n",
      "    \"refseqgene_context_intronic_sequence\": \"\",\n",
      "    \"submitted_variant\": \"COL5A1:c.5072_5077delinsT\",\n",
      "    \"transcript_description\": \"Homo sapiens collagen type V alpha 1 chain (COL5A1), transcript variant 2, mRNA\",\n",
      "    \"validation_warnings\": [\n",
      "        \"HGVS variant nomenclature does not allow the use of a gene symbol (COL5A1) in place of a valid reference sequence\"\n",
      "    ]\n",
      "}\n"
     ]
    }
   ],
   "source": [
    "print(json.dumps(vv_data_2['NM_001278074.1:c.5072_5077delinsT'], sort_keys=True, indent=4, separators=(',', ': ')))"
   ]
  },
  {
   "cell_type": "code",
   "execution_count": 30,
   "metadata": {},
   "outputs": [
    {
     "name": "stdout",
     "output_type": "stream",
     "text": [
      "{\n",
      "    \"alt_genomic_loci\": [],\n",
      "    \"gene_symbol\": \"COL5A1\",\n",
      "    \"genome_context_intronic_sequence\": \"\",\n",
      "    \"hgvs_lrg_transcript_variant\": \"LRG_737t1:c.5072_5077delinsT\",\n",
      "    \"hgvs_lrg_variant\": \"LRG_737:g.193175_193180delinsT\",\n",
      "    \"hgvs_predicted_protein_consequence\": {\n",
      "        \"slr\": \"NP_000084.3:p.(R1691Ifs*14)\",\n",
      "        \"tlr\": \"NP_000084.3(LRG_737p1):p.(Arg1691IlefsTer14)\"\n",
      "    },\n",
      "    \"hgvs_refseqgene_variant\": \"NG_008030.1:g.193175_193180delinsT\",\n",
      "    \"hgvs_transcript_variant\": \"NM_000093.4:c.5072_5077delinsT\",\n",
      "    \"primary_assembly_loci\": {\n",
      "        \"grch37\": {\n",
      "            \"hgvs_genomic_description\": \"NC_000009.11:g.137721826_137721831delinsT\",\n",
      "            \"vcf\": {\n",
      "                \"alt\": \"T\",\n",
      "                \"chr\": \"9\",\n",
      "                \"pos\": \"137721826\",\n",
      "                \"ref\": \"GAATCA\"\n",
      "            }\n",
      "        },\n",
      "        \"grch38\": {\n",
      "            \"hgvs_genomic_description\": \"NC_000009.12:g.134829980_134829985delinsT\",\n",
      "            \"vcf\": {\n",
      "                \"alt\": \"T\",\n",
      "                \"chr\": \"9\",\n",
      "                \"pos\": \"134829980\",\n",
      "                \"ref\": \"GAATCA\"\n",
      "            }\n",
      "        },\n",
      "        \"hg19\": {\n",
      "            \"hgvs_genomic_description\": \"NC_000009.11:g.137721826_137721831delinsT\",\n",
      "            \"vcf\": {\n",
      "                \"alt\": \"T\",\n",
      "                \"chr\": \"chr9\",\n",
      "                \"pos\": \"137721826\",\n",
      "                \"ref\": \"GAATCA\"\n",
      "            }\n",
      "        },\n",
      "        \"hg38\": {\n",
      "            \"hgvs_genomic_description\": \"NC_000009.12:g.134829980_134829985delinsT\",\n",
      "            \"vcf\": {\n",
      "                \"alt\": \"T\",\n",
      "                \"chr\": \"chr9\",\n",
      "                \"pos\": \"134829980\",\n",
      "                \"ref\": \"GAATCA\"\n",
      "            }\n",
      "        }\n",
      "    },\n",
      "    \"reference_sequence_records\": {\n",
      "        \"lrg\": \"http://ftp.ebi.ac.uk/pub/databases/lrgex/LRG_737.xml\",\n",
      "        \"protein\": \"https://www.ncbi.nlm.nih.gov/nuccore/NP_000084.3\",\n",
      "        \"refseqgene\": \"https://www.ncbi.nlm.nih.gov/nuccore/NG_008030.1\",\n",
      "        \"transcript\": \"https://www.ncbi.nlm.nih.gov/nuccore/NM_000093.4\"\n",
      "    },\n",
      "    \"refseqgene_context_intronic_sequence\": \"\",\n",
      "    \"submitted_variant\": \"COL5A1:c.5072_5077delinsT\",\n",
      "    \"transcript_description\": \"Homo sapiens collagen type V alpha 1 chain (COL5A1), transcript variant 1, mRNA\",\n",
      "    \"validation_warnings\": [\n",
      "        \"HGVS variant nomenclature does not allow the use of a gene symbol (COL5A1) in place of a valid reference sequence\"\n",
      "    ]\n",
      "}\n"
     ]
    }
   ],
   "source": [
    "print(json.dumps(vv_data_2['NM_000093.4:c.5072_5077delinsT'], sort_keys=True, indent=4, separators=(',', ': ')))"
   ]
  },
  {
   "cell_type": "markdown",
   "metadata": {},
   "source": [
    "**Step 11: Pull out the unexpected differences in the validations**\n",
    "\n",
    "You will by now be happy that both variant descriptions NM_001278074.1:c.5072_5077delinsT and  NM_000093.4:c.5072_5077delinsT have successfully validated and VariantValidator has produced a wealth of useful information. ***So if both variant descriptions are correct, why can we not just use COL5A1:c.5072_5077delinsT?***\n",
    "\n",
    "Rather than have you stare at the VariantValidator outputs let's use Python to explore the content of the validation dictionaries\n",
    "\n",
    "***We have valid expectations that some of the values for each key in the above validation dictionaries will be the same and others are expected to be different***\n",
    "\n",
    "***Expected to be the same***\n",
    "- submitted_variant\n",
    "- gene_symbol\n",
    "- validation_warnings\n",
    "\n",
    " \n",
    "***Expected to be different***\n",
    "\n",
    " - hgvs_lrg_transcript_variant\n",
    " - transcript_description\n",
    " - hgvs_transcript_variant\n",
    " - reference_sequence_records\n",
    " - hgvs_predicted_protein_consequence\n",
    " - genome_context_intronic_sequence\n",
    " - refseqgene_context_intronic_sequence\n",
    "\n",
    "*Note: we specified two transcript identifiers, so all transcript and protein level data between the validation dictionaries MUST be different*\n",
    "\n",
    "\n",
    "***Uncertain***\n",
    "\n",
    "*However, we cannot make assumptions about the gene or genome level data, e.g.:*\n",
    "\n",
    "- primary_assembly_loci\n",
    "- hgvs_refseqgene_variant\n",
    "- hgvs_lrg_variant\n",
    "- alt_genomic_loci\n",
    "\n",
    "***Re-create the following loop using your own object names to determine whether the submitted variants project onto the same genomic position***"
   ]
  },
  {
   "cell_type": "code",
   "execution_count": 69,
   "metadata": {},
   "outputs": [
    {
     "name": "stdout",
     "output_type": "stream",
     "text": [
      "hgvs_lrg_variant\n",
      "\tNM_001278074.1:c.5072_5077delinsT > LRG_737:g.193307_193312delinsT\n",
      "\tNM_000093.4:c.5072_5077delinsT > LRG_737:g.193175_193180delinsT\n",
      "\n",
      "\n",
      "hgvs_refseqgene_variant\n",
      "\tNM_001278074.1:c.5072_5077delinsT > NG_008030.1:g.193307_193312delinsT\n",
      "\tNM_000093.4:c.5072_5077delinsT > NG_008030.1:g.193175_193180delinsT\n",
      "\n",
      "\n",
      "primary_assembly_loci\n",
      "\tNM_001278074.1:c.5072_5077delinsT > NC_000009.12:g.134830112_134830117delinsT\n",
      "\tNM_000093.4:c.5072_5077delinsT > NC_000009.12:g.134829980_134829985delinsT\n",
      "\n",
      "\n"
     ]
    }
   ],
   "source": [
    "# Loop over the keys and values contained in one dictionary\n",
    "for key, val in vv_data_2['NM_001278074.1:c.5072_5077delinsT'].items():\n",
    "    \n",
    "    # If the current key is not one of the keys listed here, do nothing and continue through the loop\n",
    "    if key not in ['primary_assembly_loci', 'hgvs_refseqgene_variant', 'hgvs_lrg_variant', 'alt_genomic_loci']:\n",
    "        continue\n",
    "    \n",
    "    # Look for instances where the values assigned to a key are not equal to the values assignes to the same key in the second dictionary\n",
    "    elif val != vv_data_2['NM_000093.4:c.5072_5077delinsT'][key]:\n",
    "\n",
    "        # Print the key\n",
    "        print(key)        \n",
    "        \n",
    "        # To keep the output simple, we will only print the HGVS variant description for genomic build GRCh38\n",
    "        if key != \"primary_assembly_loci\":\n",
    "            # print a tab followed by the submitted variant and associated value\n",
    "            print('\\t' + 'NM_001278074.1:c.5072_5077delinsT > '+ val)\n",
    "            # print a tab followed by the submitted variant and associated value in the second dictionary\n",
    "            print('\\t' + 'NM_000093.4:c.5072_5077delinsT > '+ vv_data_2['NM_000093.4:c.5072_5077delinsT'][key])\n",
    "            # print a new-line\n",
    "            print('\\n')\n",
    "            \n",
    "        else:\n",
    "            # print a tab followed by the submitted variant and associated value\n",
    "            print('\\t' + 'NM_001278074.1:c.5072_5077delinsT > '+ val['grch38']['hgvs_genomic_description'])\n",
    "            # print a tab followed by the submitted variant and associated value in the second dictionary\n",
    "            print('\\t' + 'NM_000093.4:c.5072_5077delinsT > '+ vv_data_2['NM_000093.4:c.5072_5077delinsT']['primary_assembly_loci']['grch38']['hgvs_genomic_description'])\n",
    "            # print a new-line\n",
    "            print('\\n')            "
   ]
  },
  {
   "cell_type": "markdown",
   "metadata": {},
   "source": [
    "***Create your loop here***"
   ]
  },
  {
   "cell_type": "code",
   "execution_count": 70,
   "metadata": {},
   "outputs": [
    {
     "name": "stdout",
     "output_type": "stream",
     "text": [
      "hgvs_lrg_variant\n",
      "\tNM_001278074.1:c.5072_5077delinsT > LRG_737:g.193307_193312delinsT\n",
      "\tNM_000093.4:c.5072_5077delinsT > LRG_737:g.193175_193180delinsT\n",
      "\n",
      "\n",
      "hgvs_refseqgene_variant\n",
      "\tNM_001278074.1:c.5072_5077delinsT > NG_008030.1:g.193307_193312delinsT\n",
      "\tNM_000093.4:c.5072_5077delinsT > NG_008030.1:g.193175_193180delinsT\n",
      "\n",
      "\n",
      "primary_assembly_loci\n",
      "\tNM_001278074.1:c.5072_5077delinsT > NC_000009.12:g.134830112_134830117delinsT\n",
      "\tNM_000093.4:c.5072_5077delinsT > NC_000009.12:g.134829980_134829985delinsT\n",
      "\n",
      "\n"
     ]
    }
   ],
   "source": [
    "# Loop over the keys and values contained in one dictionary\n",
    "for key, val in vv_data_2['NM_001278074.1:c.5072_5077delinsT'].items():\n",
    "    \n",
    "    # If the current key is not one of the keys listed here, do nothing and continue through the loop\n",
    "    if key not in ['primary_assembly_loci', 'hgvs_refseqgene_variant', 'hgvs_lrg_variant', 'alt_genomic_loci']:\n",
    "        continue\n",
    "    \n",
    "    # Look for instances where the values assigned to a key are not equal to the values assignes to the same key in the second dictionary\n",
    "    elif val != vv_data_2['NM_000093.4:c.5072_5077delinsT'][key]:\n",
    "\n",
    "        # Print the key\n",
    "        print(key)        \n",
    "        \n",
    "        # To keep the output simple, we will only print the HGVS variant description for genomic build GRCh38\n",
    "        if key != \"primary_assembly_loci\":\n",
    "            # print a tab followed by the submitted variant and associated value\n",
    "            print('\\t' + 'NM_001278074.1:c.5072_5077delinsT > '+ val)\n",
    "            # print a tab followed by the submitted variant and associated value in the second dictionary\n",
    "            print('\\t' + 'NM_000093.4:c.5072_5077delinsT > '+ vv_data_2['NM_000093.4:c.5072_5077delinsT'][key])\n",
    "            # print a new-line\n",
    "            print('\\n')\n",
    "            \n",
    "        else:\n",
    "            # print a tab followed by the submitted variant and associated value\n",
    "            print('\\t' + 'NM_001278074.1:c.5072_5077delinsT > '+ val['grch38']['hgvs_genomic_description'])\n",
    "            # print a tab followed by the submitted variant and associated value in the second dictionary\n",
    "            print('\\t' + 'NM_000093.4:c.5072_5077delinsT > '+ vv_data_2['NM_000093.4:c.5072_5077delinsT']['primary_assembly_loci']['grch38']['hgvs_genomic_description'])\n",
    "            # print a new-line\n",
    "            print('\\n')            "
   ]
  },
  {
   "cell_type": "markdown",
   "metadata": {},
   "source": [
    "### Concluding remarks\n",
    "\n",
    "The loop shows that the genomic and gene level variant descriptions are different, *i.e.* variants NM_001278074.1:c.5072_5077delinsT and NM_000093.4:c.5072_5077delinsT are not the same. ***Consequently, descriptions like COL5A1:c.5072_5077delinsT should not be used because they may describe multiple and independent genomic variants***\n",
    "\n",
    "- NM_001278074.1:c.5072_5077delinsT  >  NC_000009.12:g.134830112_134830117delinsT\n",
    "- NM_000093.4:c.5072_5077delinsT       >  NC_000009.12:g.134829980_134829985delinsT\n",
    "\n",
    "**Therefore without additional information it is impossible to correct COL5A1:c.5072_5077delinsT into a variant description that is valid for entry into a variant database** "
   ]
  },
  {
   "cell_type": "markdown",
   "metadata": {},
   "source": [
    "# Additional task\n",
    "\n",
    "**If you have got this far, below is an adapted query_vv function that  can make calls to all VariantValidator rest API functions***\n",
    "\n",
    "*Note: the new function has a new ID*\n",
    "\n",
    "Use this Jupyter notebook to make calls to the other functions and find your way around the responses. Remember to make notes, and make them pretty using Markdown\n",
    "\n",
    "Before attempting this section, take a look at the [VariantValidator rest API](https://rest.variantvalidator.org/webservices/variantvalidator.html#!/variantvalidator) Swagger documented functions\n",
    "\n",
    "If you see response code 500 or an error, something has gone wrong, please [contact admin](https://variantvalidator.org/contact_admin/). We use user feedback to improve our tools!"
   ]
  },
  {
   "cell_type": "code",
   "execution_count": 72,
   "metadata": {},
   "outputs": [],
   "source": [
    "# Function that makes calls to the VariantValidator rest API\n",
    "\n",
    "# Different VariantValidator rest API functions require different data\n",
    "def query_vv_2(base_url, function, genome_build=None, variant=None, select_transcripts=None, gene_symbol=None, transcript_model=None, checkOnly=None):\n",
    "    \n",
    "    # Call the variantvalidator function\n",
    "    if function == 'variantvalidator':\n",
    "        url = \"%s/%s/%s/%s/%s\" % (base_url, function, genome_build, variant, select_transcripts)\n",
    "        # Tell the User the full URL of their call to the rest API\n",
    "        print(\"Querying VariantValidator rest API with URL\")\n",
    "        print(url)\n",
    "        query = requests.get(url)\n",
    "        return query\n",
    "    \n",
    "    # Call the gene2transcripts function\n",
    "    if function == 'gene2transcripts':\n",
    "        url = \"%s/%s/%s/%s\" % (base_url, 'tools', function, gene_symbol)\n",
    "        # Tell the User the full URL of their call to the rest API\n",
    "        print(\"Querying VariantValidator rest API with URL\")\n",
    "        print(url)\n",
    "        query = requests.get(url)\n",
    "        return query\n",
    "\n",
    "    # Call the gene2transcripts function\n",
    "    if function == 'hgvs2reference':\n",
    "        url = \"%s/%s/%s/%s\" % (base_url, 'tools', function, variant)\n",
    "        # Tell the User the full URL of their call to the rest API\n",
    "        print(\"Querying VariantValidator rest API with URL\")\n",
    "        print(url)\n",
    "        query = requests.get(url)\n",
    "        return query\n",
    "    \n",
    "    # Call the variantformatter function\n",
    "    if function == 'variantformatter':\n",
    "        url = \"%s/%s/%s/%s/%s/%s/%s\" % (base_url, function, genome_build, variant, transcript_model, select_transcripts, checkOnly)\n",
    "        # Tell the User the full URL of their call to the rest API\n",
    "        print(\"Querying VariantValidator rest API with URL\")\n",
    "        print(url)\n",
    "        query = requests.get(url)\n",
    "        return query"
   ]
  }
 ],
 "metadata": {
  "kernelspec": {
   "display_name": "Python 3",
   "language": "python",
   "name": "python3"
  },
  "language_info": {
   "codemirror_mode": {
    "name": "ipython",
    "version": 3
   },
   "file_extension": ".py",
   "mimetype": "text/x-python",
   "name": "python",
   "nbconvert_exporter": "python",
   "pygments_lexer": "ipython3",
   "version": "3.7.3"
  }
 },
 "nbformat": 4,
 "nbformat_minor": 2
}
